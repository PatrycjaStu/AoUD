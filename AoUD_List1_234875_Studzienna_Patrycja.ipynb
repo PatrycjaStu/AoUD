{
  "nbformat": 4,
  "nbformat_minor": 0,
  "metadata": {
    "colab": {
      "name": "AoUD_List1_234875_Studzienna_Patrycja.ipynb",
      "provenance": []
    },
    "kernelspec": {
      "name": "python3",
      "display_name": "Python 3"
    }
  },
  "cells": [
    {
      "cell_type": "markdown",
      "metadata": {
        "id": "dA2xxgScfT_E"
      },
      "source": [
        "#Assignment 1"
      ]
    },
    {
      "cell_type": "code",
      "metadata": {
        "id": "LyV5yEYBfKh1"
      },
      "source": [
        "import pandas as pd\n",
        "import matplotlib.pyplot as plt\n",
        "import seaborn as sns\n",
        "import os\n",
        "import numpy as np"
      ],
      "execution_count": 97,
      "outputs": []
    },
    {
      "cell_type": "code",
      "metadata": {
        "id": "M300jOZkfL50"
      },
      "source": [
        "path = os.getcwd()\n",
        "\n",
        "df=pd.read_csv(path + \"/application_record.csv\")"
      ],
      "execution_count": 98,
      "outputs": []
    },
    {
      "cell_type": "code",
      "metadata": {
        "id": "EPDeGcX0lbU_"
      },
      "source": [
        "df = pd.DataFrame(df)"
      ],
      "execution_count": 99,
      "outputs": []
    },
    {
      "cell_type": "markdown",
      "metadata": {
        "id": "bwC-muGczCZO"
      },
      "source": [
        "##1. Data\n",
        "\n",
        "Credit Card Dataset is download from Kaggle. It has 438557 rows and 18 columns. There are columns of integers and strings. They contain information that bank collect from the clients that aplly for credit card."
      ]
    },
    {
      "cell_type": "code",
      "metadata": {
        "id": "Awf75E8OmiVS",
        "outputId": "1d63cc48-ae88-41b3-80da-ac25777770aa",
        "colab": {
          "base_uri": "https://localhost:8080/",
          "height": 275
        }
      },
      "source": [
        "df.head()"
      ],
      "execution_count": 100,
      "outputs": [
        {
          "output_type": "execute_result",
          "data": {
            "text/html": [
              "<div>\n",
              "<style scoped>\n",
              "    .dataframe tbody tr th:only-of-type {\n",
              "        vertical-align: middle;\n",
              "    }\n",
              "\n",
              "    .dataframe tbody tr th {\n",
              "        vertical-align: top;\n",
              "    }\n",
              "\n",
              "    .dataframe thead th {\n",
              "        text-align: right;\n",
              "    }\n",
              "</style>\n",
              "<table border=\"1\" class=\"dataframe\">\n",
              "  <thead>\n",
              "    <tr style=\"text-align: right;\">\n",
              "      <th></th>\n",
              "      <th>ID</th>\n",
              "      <th>CODE_GENDER</th>\n",
              "      <th>FLAG_OWN_CAR</th>\n",
              "      <th>FLAG_OWN_REALTY</th>\n",
              "      <th>CNT_CHILDREN</th>\n",
              "      <th>AMT_INCOME_TOTAL</th>\n",
              "      <th>NAME_INCOME_TYPE</th>\n",
              "      <th>NAME_EDUCATION_TYPE</th>\n",
              "      <th>NAME_FAMILY_STATUS</th>\n",
              "      <th>NAME_HOUSING_TYPE</th>\n",
              "      <th>DAYS_BIRTH</th>\n",
              "      <th>DAYS_EMPLOYED</th>\n",
              "      <th>FLAG_MOBIL</th>\n",
              "      <th>FLAG_WORK_PHONE</th>\n",
              "      <th>FLAG_PHONE</th>\n",
              "      <th>FLAG_EMAIL</th>\n",
              "      <th>OCCUPATION_TYPE</th>\n",
              "      <th>CNT_FAM_MEMBERS</th>\n",
              "    </tr>\n",
              "  </thead>\n",
              "  <tbody>\n",
              "    <tr>\n",
              "      <th>0</th>\n",
              "      <td>5008804</td>\n",
              "      <td>M</td>\n",
              "      <td>Y</td>\n",
              "      <td>Y</td>\n",
              "      <td>0</td>\n",
              "      <td>427500.0</td>\n",
              "      <td>Working</td>\n",
              "      <td>Higher education</td>\n",
              "      <td>Civil marriage</td>\n",
              "      <td>Rented apartment</td>\n",
              "      <td>-12005</td>\n",
              "      <td>-4542</td>\n",
              "      <td>1</td>\n",
              "      <td>1</td>\n",
              "      <td>0</td>\n",
              "      <td>0</td>\n",
              "      <td>NaN</td>\n",
              "      <td>2.0</td>\n",
              "    </tr>\n",
              "    <tr>\n",
              "      <th>1</th>\n",
              "      <td>5008805</td>\n",
              "      <td>M</td>\n",
              "      <td>Y</td>\n",
              "      <td>Y</td>\n",
              "      <td>0</td>\n",
              "      <td>427500.0</td>\n",
              "      <td>Working</td>\n",
              "      <td>Higher education</td>\n",
              "      <td>Civil marriage</td>\n",
              "      <td>Rented apartment</td>\n",
              "      <td>-12005</td>\n",
              "      <td>-4542</td>\n",
              "      <td>1</td>\n",
              "      <td>1</td>\n",
              "      <td>0</td>\n",
              "      <td>0</td>\n",
              "      <td>NaN</td>\n",
              "      <td>2.0</td>\n",
              "    </tr>\n",
              "    <tr>\n",
              "      <th>2</th>\n",
              "      <td>5008806</td>\n",
              "      <td>M</td>\n",
              "      <td>Y</td>\n",
              "      <td>Y</td>\n",
              "      <td>0</td>\n",
              "      <td>112500.0</td>\n",
              "      <td>Working</td>\n",
              "      <td>Secondary / secondary special</td>\n",
              "      <td>Married</td>\n",
              "      <td>House / apartment</td>\n",
              "      <td>-21474</td>\n",
              "      <td>-1134</td>\n",
              "      <td>1</td>\n",
              "      <td>0</td>\n",
              "      <td>0</td>\n",
              "      <td>0</td>\n",
              "      <td>Security staff</td>\n",
              "      <td>2.0</td>\n",
              "    </tr>\n",
              "    <tr>\n",
              "      <th>3</th>\n",
              "      <td>5008808</td>\n",
              "      <td>F</td>\n",
              "      <td>N</td>\n",
              "      <td>Y</td>\n",
              "      <td>0</td>\n",
              "      <td>270000.0</td>\n",
              "      <td>Commercial associate</td>\n",
              "      <td>Secondary / secondary special</td>\n",
              "      <td>Single / not married</td>\n",
              "      <td>House / apartment</td>\n",
              "      <td>-19110</td>\n",
              "      <td>-3051</td>\n",
              "      <td>1</td>\n",
              "      <td>0</td>\n",
              "      <td>1</td>\n",
              "      <td>1</td>\n",
              "      <td>Sales staff</td>\n",
              "      <td>1.0</td>\n",
              "    </tr>\n",
              "    <tr>\n",
              "      <th>4</th>\n",
              "      <td>5008809</td>\n",
              "      <td>F</td>\n",
              "      <td>N</td>\n",
              "      <td>Y</td>\n",
              "      <td>0</td>\n",
              "      <td>270000.0</td>\n",
              "      <td>Commercial associate</td>\n",
              "      <td>Secondary / secondary special</td>\n",
              "      <td>Single / not married</td>\n",
              "      <td>House / apartment</td>\n",
              "      <td>-19110</td>\n",
              "      <td>-3051</td>\n",
              "      <td>1</td>\n",
              "      <td>0</td>\n",
              "      <td>1</td>\n",
              "      <td>1</td>\n",
              "      <td>Sales staff</td>\n",
              "      <td>1.0</td>\n",
              "    </tr>\n",
              "  </tbody>\n",
              "</table>\n",
              "</div>"
            ],
            "text/plain": [
              "        ID CODE_GENDER  ... OCCUPATION_TYPE CNT_FAM_MEMBERS\n",
              "0  5008804           M  ...             NaN             2.0\n",
              "1  5008805           M  ...             NaN             2.0\n",
              "2  5008806           M  ...  Security staff             2.0\n",
              "3  5008808           F  ...     Sales staff             1.0\n",
              "4  5008809           F  ...     Sales staff             1.0\n",
              "\n",
              "[5 rows x 18 columns]"
            ]
          },
          "metadata": {
            "tags": []
          },
          "execution_count": 100
        }
      ]
    },
    {
      "cell_type": "markdown",
      "metadata": {
        "id": "HwRc4U7BzIxH"
      },
      "source": [
        "##2. Clean the data\n",
        "\n",
        "There is a \"ID\" column that has unique values. It is useless in my anslysis. I drop colums that I don't use.\n",
        "\n",
        "There are strange values in columns with days so I decide to scale it to years."
      ]
    },
    {
      "cell_type": "code",
      "metadata": {
        "id": "NapihNyHrjXk"
      },
      "source": [
        "df['AGE'] = df['DAYS_BIRTH']/(-365.0)   # each year has 365 day in my calculation\n",
        "df['YEARS_EMPLOYED'] = df['DAYS_EMPLOYED']/(-365.0)"
      ],
      "execution_count": 107,
      "outputs": []
    },
    {
      "cell_type": "code",
      "metadata": {
        "id": "5NkzJ8s2In7Q"
      },
      "source": [
        "df = df.drop(['ID','DAYS_BIRTH','DAYS_EMPLOYED','FLAG_MOBIL','FLAG_WORK_PHONE','FLAG_PHONE','FLAG_EMAIL','OCCUPATION_TYPE','FLAG_OWN_REALTY'],axis=1)"
      ],
      "execution_count": 108,
      "outputs": []
    },
    {
      "cell_type": "code",
      "metadata": {
        "id": "duoYG8S1ziS7",
        "outputId": "ff695f69-eb24-4afd-d61b-f98b92e62c91",
        "colab": {
          "base_uri": "https://localhost:8080/",
          "height": 275
        }
      },
      "source": [
        "df.head()"
      ],
      "execution_count": 109,
      "outputs": [
        {
          "output_type": "execute_result",
          "data": {
            "text/html": [
              "<div>\n",
              "<style scoped>\n",
              "    .dataframe tbody tr th:only-of-type {\n",
              "        vertical-align: middle;\n",
              "    }\n",
              "\n",
              "    .dataframe tbody tr th {\n",
              "        vertical-align: top;\n",
              "    }\n",
              "\n",
              "    .dataframe thead th {\n",
              "        text-align: right;\n",
              "    }\n",
              "</style>\n",
              "<table border=\"1\" class=\"dataframe\">\n",
              "  <thead>\n",
              "    <tr style=\"text-align: right;\">\n",
              "      <th></th>\n",
              "      <th>CODE_GENDER</th>\n",
              "      <th>FLAG_OWN_CAR</th>\n",
              "      <th>CNT_CHILDREN</th>\n",
              "      <th>AMT_INCOME_TOTAL</th>\n",
              "      <th>NAME_INCOME_TYPE</th>\n",
              "      <th>NAME_EDUCATION_TYPE</th>\n",
              "      <th>NAME_FAMILY_STATUS</th>\n",
              "      <th>NAME_HOUSING_TYPE</th>\n",
              "      <th>CNT_FAM_MEMBERS</th>\n",
              "      <th>AGE</th>\n",
              "      <th>YEARS_EMPLOYED</th>\n",
              "    </tr>\n",
              "  </thead>\n",
              "  <tbody>\n",
              "    <tr>\n",
              "      <th>0</th>\n",
              "      <td>M</td>\n",
              "      <td>Y</td>\n",
              "      <td>0</td>\n",
              "      <td>427500.0</td>\n",
              "      <td>Working</td>\n",
              "      <td>Higher education</td>\n",
              "      <td>Civil marriage</td>\n",
              "      <td>Rented apartment</td>\n",
              "      <td>2.0</td>\n",
              "      <td>32.890411</td>\n",
              "      <td>12.443836</td>\n",
              "    </tr>\n",
              "    <tr>\n",
              "      <th>1</th>\n",
              "      <td>M</td>\n",
              "      <td>Y</td>\n",
              "      <td>0</td>\n",
              "      <td>427500.0</td>\n",
              "      <td>Working</td>\n",
              "      <td>Higher education</td>\n",
              "      <td>Civil marriage</td>\n",
              "      <td>Rented apartment</td>\n",
              "      <td>2.0</td>\n",
              "      <td>32.890411</td>\n",
              "      <td>12.443836</td>\n",
              "    </tr>\n",
              "    <tr>\n",
              "      <th>2</th>\n",
              "      <td>M</td>\n",
              "      <td>Y</td>\n",
              "      <td>0</td>\n",
              "      <td>112500.0</td>\n",
              "      <td>Working</td>\n",
              "      <td>Secondary / secondary special</td>\n",
              "      <td>Married</td>\n",
              "      <td>House / apartment</td>\n",
              "      <td>2.0</td>\n",
              "      <td>58.832877</td>\n",
              "      <td>3.106849</td>\n",
              "    </tr>\n",
              "    <tr>\n",
              "      <th>3</th>\n",
              "      <td>F</td>\n",
              "      <td>N</td>\n",
              "      <td>0</td>\n",
              "      <td>270000.0</td>\n",
              "      <td>Commercial associate</td>\n",
              "      <td>Secondary / secondary special</td>\n",
              "      <td>Single / not married</td>\n",
              "      <td>House / apartment</td>\n",
              "      <td>1.0</td>\n",
              "      <td>52.356164</td>\n",
              "      <td>8.358904</td>\n",
              "    </tr>\n",
              "    <tr>\n",
              "      <th>4</th>\n",
              "      <td>F</td>\n",
              "      <td>N</td>\n",
              "      <td>0</td>\n",
              "      <td>270000.0</td>\n",
              "      <td>Commercial associate</td>\n",
              "      <td>Secondary / secondary special</td>\n",
              "      <td>Single / not married</td>\n",
              "      <td>House / apartment</td>\n",
              "      <td>1.0</td>\n",
              "      <td>52.356164</td>\n",
              "      <td>8.358904</td>\n",
              "    </tr>\n",
              "  </tbody>\n",
              "</table>\n",
              "</div>"
            ],
            "text/plain": [
              "  CODE_GENDER FLAG_OWN_CAR  ...        AGE  YEARS_EMPLOYED\n",
              "0           M            Y  ...  32.890411       12.443836\n",
              "1           M            Y  ...  32.890411       12.443836\n",
              "2           M            Y  ...  58.832877        3.106849\n",
              "3           F            N  ...  52.356164        8.358904\n",
              "4           F            N  ...  52.356164        8.358904\n",
              "\n",
              "[5 rows x 11 columns]"
            ]
          },
          "metadata": {
            "tags": []
          },
          "execution_count": 109
        }
      ]
    },
    {
      "cell_type": "markdown",
      "metadata": {
        "id": "ww7ssKMrz9KH"
      },
      "source": [
        "##3. Create a pie chart presenting the male/female proportion"
      ]
    },
    {
      "cell_type": "code",
      "metadata": {
        "id": "DEOXH3rCzkU5",
        "outputId": "7b76415a-51f9-40e4-e7b5-973b207f87a8",
        "colab": {
          "base_uri": "https://localhost:8080/",
          "height": 350
        }
      },
      "source": [
        "labels = 'Male', 'Female'\n",
        "\n",
        "df['Male'] = df['CODE_GENDER'].map({'M': 1, 'F': 0})\n",
        "df['Female'] = df['CODE_GENDER'].map({'F': 1, 'M': 0})\n",
        "\n",
        "sizes = [df['Male'].sum(), df['Female'].sum()]\n",
        "plt.pie(sizes,labels=labels, autopct='%1.1f%%')"
      ],
      "execution_count": 110,
      "outputs": [
        {
          "output_type": "execute_result",
          "data": {
            "text/plain": [
              "([<matplotlib.patches.Wedge at 0x7f3cbc876fd0>,\n",
              "  <matplotlib.patches.Wedge at 0x7f3cbc883780>],\n",
              " [Text(0.5640559336064972, 0.9443732862397701, 'Male'),\n",
              "  Text(-0.5640558451878862, -0.9443733390504941, 'Female')],\n",
              " [Text(0.3076668728762712, 0.5151127015853291, '32.9%'),\n",
              "  Text(-0.30766682464793793, -0.5151127303911786, '67.1%')])"
            ]
          },
          "metadata": {
            "tags": []
          },
          "execution_count": 110
        },
        {
          "output_type": "display_data",
          "data": {
            "image/png": "[encoded data removed]",
            "text/plain": [
              "<Figure size 432x288 with 1 Axes>"
            ]
          },
          "metadata": {
            "tags": []
          }
        }
      ]
    },
    {
      "cell_type": "markdown",
      "metadata": {
        "id": "wEczZgSYJ1_K"
      },
      "source": [
        "It shows that more women apply for credit card."
      ]
    },
    {
      "cell_type": "markdown",
      "metadata": {
        "id": "wEf8ouno7e6W"
      },
      "source": [
        "##4. Create a scatterplot with the “Total income” and the “Age”, diﬀer the plot color by gender.\n",
        "\n",
        "The data set is very large. I need to plot just part of data to have readable plot.\n"
      ]
    },
    {
      "cell_type": "code",
      "metadata": {
        "id": "7aol-ErB4tWK",
        "outputId": "eb38f8be-b2bd-461a-b6c0-166daa5ce94d",
        "colab": {
          "base_uri": "https://localhost:8080/",
          "height": 312
        }
      },
      "source": [
        "cols = {'F': 'red', 'M': 'blue'}  # red for women, blue for men\n",
        "\n",
        "plt.title('“Total income” and the “Age”, diﬀer the plot color by gender')\n",
        "plt.xlabel('Age')\n",
        "plt.ylabel('Toltal income')\n",
        "plt.scatter(df.AGE[:2000], df.AMT_INCOME_TOTAL[:2000], c=df.CODE_GENDER[:2000].map(cols))"
      ],
      "execution_count": 111,
      "outputs": [
        {
          "output_type": "execute_result",
          "data": {
            "text/plain": [
              "<matplotlib.collections.PathCollection at 0x7f3cbc83a898>"
            ]
          },
          "metadata": {
            "tags": []
          },
          "execution_count": 111
        },
        {
          "output_type": "display_data",
          "data": {
            "image/png": "[encoded data removed]",
            "text/plain": [
              "<Figure size 432x288 with 1 Axes>"
            ]
          },
          "metadata": {
            "tags": [],
            "needs_background": "light"
          }
        }
      ]
    },
    {
      "cell_type": "markdown",
      "metadata": {
        "id": "0b5mXvFBMCiQ"
      },
      "source": [
        "Unfortunately the figure doesn't show any pattern according me. It is hard to interpret it."
      ]
    },
    {
      "cell_type": "markdown",
      "metadata": {
        "id": "dkcAaN1PJg6X"
      },
      "source": [
        "##5. Check how many people have car."
      ]
    },
    {
      "cell_type": "code",
      "metadata": {
        "id": "t7lwoHAqLgoA",
        "outputId": "5dbad401-9119-4ebe-ef26-ea57eb5ede16",
        "colab": {
          "base_uri": "https://localhost:8080/",
          "height": 34
        }
      },
      "source": [
        "df['FLAG_OWN_CAR'] = df['FLAG_OWN_CAR'].map({'Y': 1, 'N': 0})\n",
        "df[\"FLAG_OWN_CAR\"].sum()"
      ],
      "execution_count": 112,
      "outputs": [
        {
          "output_type": "execute_result",
          "data": {
            "text/plain": [
              "163098"
            ]
          },
          "metadata": {
            "tags": []
          },
          "execution_count": 112
        }
      ]
    },
    {
      "cell_type": "markdown",
      "metadata": {
        "id": "5oxySFw_NhVw"
      },
      "source": [
        "##6. Create a histogram with the 'Age'."
      ]
    },
    {
      "cell_type": "code",
      "metadata": {
        "id": "Wq--cwDkMUVn",
        "outputId": "c264923a-e7b4-4693-db1b-de6e7c5f6c34",
        "colab": {
          "base_uri": "https://localhost:8080/",
          "height": 312
        }
      },
      "source": [
        "df['AGE'].plot.hist(bins=20,density = True)\n",
        "plt.xlabel('Age')\n",
        "plt.title('Distribution of Age')"
      ],
      "execution_count": 113,
      "outputs": [
        {
          "output_type": "execute_result",
          "data": {
            "text/plain": [
              "Text(0.5, 1.0, 'Distribution of Age')"
            ]
          },
          "metadata": {
            "tags": []
          },
          "execution_count": 113
        },
        {
          "output_type": "display_data",
          "data": {
            "image/png": "[encoded data removed]",
            "text/plain": [
              "<Figure size 432x288 with 1 Axes>"
            ]
          },
          "metadata": {
            "tags": [],
            "needs_background": "light"
          }
        }
      ]
    },
    {
      "cell_type": "markdown",
      "metadata": {
        "id": "N8kLoGgAVCKj"
      },
      "source": [
        "The conclusion is that in age 30-45 apply for credit card more often."
      ]
    },
    {
      "cell_type": "markdown",
      "metadata": {
        "id": "izjvemQCXWdL"
      },
      "source": [
        "##7. My questions\n",
        "\n",
        "Who earn more? Dependence between Total Income and Type of Education."
      ]
    },
    {
      "cell_type": "code",
      "metadata": {
        "id": "isLsewkMbEXT",
        "outputId": "cf1908fe-f887-4f56-a3e6-5724e109fe7f",
        "colab": {
          "base_uri": "https://localhost:8080/",
          "height": 450
        }
      },
      "source": [
        "sns.violinplot( y=df[\"AMT_INCOME_TOTAL\"], x=df[\"NAME_EDUCATION_TYPE\"] )\n",
        "plt.xticks(rotation='vertical')"
      ],
      "execution_count": 114,
      "outputs": [
        {
          "output_type": "execute_result",
          "data": {
            "text/plain": [
              "(array([0, 1, 2, 3, 4]), <a list of 5 Text major ticklabel objects>)"
            ]
          },
          "metadata": {
            "tags": []
          },
          "execution_count": 114
        },
        {
          "output_type": "display_data",
          "data": {
            "image/png": "[encoded data removed]",
            "text/plain": [
              "<Figure size 432x288 with 1 Axes>"
            ]
          },
          "metadata": {
            "tags": [],
            "needs_background": "light"
          }
        }
      ]
    },
    {
      "cell_type": "markdown",
      "metadata": {
        "id": "Ov5WZjkTXr-Q"
      },
      "source": [
        "This is violin plot. It shows distribution of each type of education type. The largest income are achieved by high educated people."
      ]
    },
    {
      "cell_type": "markdown",
      "metadata": {
        "id": "cfa2jhRGeO50"
      },
      "source": [
        "What is the number of family members?"
      ]
    },
    {
      "cell_type": "code",
      "metadata": {
        "id": "dvpxqIb7ctVo",
        "outputId": "d7d84bd0-7c89-4fe4-e412-c60f2eadb3b7",
        "colab": {
          "base_uri": "https://localhost:8080/",
          "height": 312
        }
      },
      "source": [
        "df[\"CNT_FAM_MEMBERS\"].plot.hist(bins=20)\n",
        "plt.title('Family members')\n",
        "plt.xlabel('Number of family members')"
      ],
      "execution_count": 115,
      "outputs": [
        {
          "output_type": "execute_result",
          "data": {
            "text/plain": [
              "Text(0.5, 0, 'Number of family members')"
            ]
          },
          "metadata": {
            "tags": []
          },
          "execution_count": 115
        },
        {
          "output_type": "display_data",
          "data": {
            "image/png": "[encoded data removed]",
            "text/plain": [
              "<Figure size 432x288 with 1 Axes>"
            ]
          },
          "metadata": {
            "tags": [],
            "needs_background": "light"
          }
        }
      ]
    },
    {
      "cell_type": "markdown",
      "metadata": {
        "id": "-Wdnu9IneLoX"
      },
      "source": [
        "The most popular size of family is 3 people. The values are in range from 1 to 5."
      ]
    },
    {
      "cell_type": "markdown",
      "metadata": {
        "id": "gt-IQHA0pjOC"
      },
      "source": [
        "There is a problem with 'Years_Employed' column data. Logically the values should be greater than zero. For my analysis I assume that this values are equal zero."
      ]
    },
    {
      "cell_type": "code",
      "metadata": {
        "id": "cm7F-GJLnz8J"
      },
      "source": [
        "for i in range(2000):\n",
        "  if df[\"YEARS_EMPLOYED\"][i]<0:\n",
        "    df[\"YEARS_EMPLOYED\"][i] = 0"
      ],
      "execution_count": 127,
      "outputs": []
    },
    {
      "cell_type": "markdown",
      "metadata": {
        "id": "JDO2WjLzqR1i"
      },
      "source": [
        "Does length of service affect income?"
      ]
    },
    {
      "cell_type": "code",
      "metadata": {
        "id": "FrgYSU0EoacV",
        "outputId": "49b598d3-033b-4696-eef2-335fc2947929",
        "colab": {
          "base_uri": "https://localhost:8080/",
          "height": 312
        }
      },
      "source": [
        "plt.title('“Total income” and the “Age”\n",
        "plt.xlabel('Years employed')\n",
        "plt.ylabel('Toltal income')\n",
        "plt.scatter(df.YEARS_EMPLOYED[:2000], df.AMT_INCOME_TOTAL[:2000])"
      ],
      "execution_count": 128,
      "outputs": [
        {
          "output_type": "execute_result",
          "data": {
            "text/plain": [
              "<matplotlib.collections.PathCollection at 0x7f3cbc57a9b0>"
            ]
          },
          "metadata": {
            "tags": []
          },
          "execution_count": 128
        },
        {
          "output_type": "display_data",
          "data": {
            "image/png": "[encoded data removed]",
            "text/plain": [
              "<Figure size 432x288 with 1 Axes>"
            ]
          },
          "metadata": {
            "tags": [],
            "needs_background": "light"
          }
        }
      ]
    },
    {
      "cell_type": "markdown",
      "metadata": {
        "id": "53VOd6DRtGig"
      },
      "source": [
        "The plot does not show any relationship between seniority and income."
      ]
    }
  ]
}